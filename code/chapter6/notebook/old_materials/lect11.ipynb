{
 "cells": [
  {
   "cell_type": "code",
   "execution_count": 11,
   "id": "52d8535f",
   "metadata": {},
   "outputs": [],
   "source": [
    "class Students:\n",
    "    def __init__(self, name, surname, student_id, gender):\n",
    "        self.name = name\n",
    "        self.surname = surname\n",
    "        self.sid = student_id\n",
    "        self.gender = gender\n",
    "        \n",
    "    def greet(self):\n",
    "        print(\"Hello, my name is \"+self.name+\" \"+self.surname)\n",
    "        "
   ]
  },
  {
   "cell_type": "code",
   "execution_count": 12,
   "id": "7a1d75dd",
   "metadata": {},
   "outputs": [],
   "source": [
    "student1 = Students(\"Somsak\",\"Jiam\",\"12345678\",\"male\")"
   ]
  },
  {
   "cell_type": "code",
   "execution_count": 13,
   "id": "ae2630e1",
   "metadata": {},
   "outputs": [
    {
     "name": "stdout",
     "output_type": "stream",
     "text": [
      "Hello, my name is Somsak Jiam\n"
     ]
    }
   ],
   "source": [
    "student1.greet()"
   ]
  },
  {
   "cell_type": "code",
   "execution_count": 14,
   "id": "216e8749",
   "metadata": {},
   "outputs": [],
   "source": [
    "class iupStudents(Students):\n",
    "    def greet(self):\n",
    "        print(\"Hello, my name is \"+self.surname+\", \"+self.name)\n",
    "        "
   ]
  },
  {
   "cell_type": "code",
   "execution_count": 15,
   "id": "fddfe3fc",
   "metadata": {},
   "outputs": [],
   "source": [
    "student2 = iupStudents(\"Brad\",\"Pitbull\",\"9876543\",\"male\")"
   ]
  },
  {
   "cell_type": "code",
   "execution_count": 16,
   "id": "6851dc21",
   "metadata": {},
   "outputs": [
    {
     "name": "stdout",
     "output_type": "stream",
     "text": [
      "Hello, my name is Pitbull, Brad\n"
     ]
    }
   ],
   "source": [
    "student2.greet()"
   ]
  },
  {
   "cell_type": "code",
   "execution_count": 17,
   "id": "85de2591",
   "metadata": {},
   "outputs": [],
   "source": [
    "class IupStudents(Students):\n",
    "    def __init__(self,name,surname,student_id,gender,nationality):\n",
    "        super().__init__(name,surname,student_id,gender)\n",
    "        self.nationality = nationality\n",
    "    def greet(self):\n",
    "        print(\"Hello, my name is \"+self.surname+\", \"+self.name)\n",
    "        print(\"I am from \"+ self.nationality)\n",
    "        "
   ]
  },
  {
   "cell_type": "code",
   "execution_count": 18,
   "id": "daa44a25",
   "metadata": {},
   "outputs": [],
   "source": [
    "student3 = IupStudents(\"Hermione\",\"Granger\",\"289074890\",\"female\",\"Hogwarts\")"
   ]
  },
  {
   "cell_type": "code",
   "execution_count": 19,
   "id": "1d4866d4",
   "metadata": {},
   "outputs": [
    {
     "name": "stdout",
     "output_type": "stream",
     "text": [
      "Hello, my name is Granger, Hermione\n",
      "I am from Hogwarts\n"
     ]
    }
   ],
   "source": [
    "student3.greet()"
   ]
  },
  {
   "cell_type": "code",
   "execution_count": null,
   "id": "d80b80a6",
   "metadata": {},
   "outputs": [],
   "source": []
  }
 ],
 "metadata": {
  "kernelspec": {
   "display_name": "Python 3.9 (tensorflow2)",
   "language": "python",
   "name": "tensorflow2"
  },
  "language_info": {
   "codemirror_mode": {
    "name": "ipython",
    "version": 3
   },
   "file_extension": ".py",
   "mimetype": "text/x-python",
   "name": "python",
   "nbconvert_exporter": "python",
   "pygments_lexer": "ipython3",
   "version": "3.9.13"
  }
 },
 "nbformat": 4,
 "nbformat_minor": 5
}

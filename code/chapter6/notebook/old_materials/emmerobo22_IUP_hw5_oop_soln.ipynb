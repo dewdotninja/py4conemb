{
 "cells": [
  {
   "cell_type": "markdown",
   "id": "e30398c9",
   "metadata": {},
   "source": [
    "<div align=\"right\">Revision 1 : October 2022</div>"
   ]
  },
  {
   "cell_type": "markdown",
   "id": "e2cbc0e9",
   "metadata": {},
   "source": [
    "<a href=\"https://colab.research.google.com/github/dewdotninja/robotics/blob/master/EMMErobo22_IUP/emmerobo22_IUP_hw5_oop_soln.ipynb\" target=\"_parent\"><img src=\"https://colab.research.google.com/assets/colab-badge.svg\" alt=\"Open In Colab\"/></a>"
   ]
  },
  {
   "cell_type": "markdown",
   "id": "7c0eb279",
   "metadata": {},
   "source": [
    "<p align=\"left\">\n",
    "<img src=\"https://raw.githubusercontent.com/dewdotninja/exams/main/feng_heading_en.png\" width=400 alt=\"Feng heading\"/>\n",
    "</p>\n",
    "\n",
    "#### Department of Mechanical Engineering\n",
    "\n",
    "First Semester, Academic Year 2022\n",
    "\n",
    "<br>**01211433  Vision and Control of Industrial Robots (International Undergraduate Program)**\n",
    "\n",
    "### Homework 5 : discrete cascaded PID controllers implementation\n",
    "\n",
    "#### Object-oriented approach solution\n",
    "\n",
    "(10 points) Simulate step response the cascaded PID feedback in Homework 4 and compare with the continuous-time result.\n",
    "They should match well.\n",
    "\n",
    "Type student name - surname and ID in the cell below."
   ]
  },
  {
   "cell_type": "code",
   "execution_count": null,
   "id": "00d752e1",
   "metadata": {},
   "outputs": [],
   "source": [
    "#Avg Poipet 6010506258"
   ]
  },
  {
   "cell_type": "markdown",
   "id": "8a09438f",
   "metadata": {},
   "source": [
    "#### Homework problems may depend on the last 3 digits of your student ID\n",
    "\n",
    "-------xyz (other digits are ignored)\n",
    "\n",
    "In case any digit in the last 3 are 0, it must be replaced by 5.\n",
    "\n",
    "#### Examples\n",
    "    \n",
    "Student A's ID - 6010555853 results in x = 8, y = 5, z = 3\n",
    "\n",
    "Student B 's ID - 6010546104 results in x = 1, y = 5, z = 4\n",
    "\n",
    "Student C 's ID - 6310055032 results in x = 5, y = 3, z = 2\n",
    "    \n",
    "These valuess are used for all the problems in the exam where x,y,and/or z appear. In this \n",
    "sense, the results from each student should be different even computed using the same methods.\n",
    "\n",
    "Operations that may be applied to the variables.\n",
    "\n",
    "$+$ addition\n",
    "\n",
    " $-$  subtraction\n",
    "\n",
    " $*$  multiplication \n",
    "\n",
    " $/$ division\n",
    "\n",
    "$**$ raise to the power (For example, x**z means $x^z$)\n",
    "\n",
    "including math opertions such as $\\exp(x)$, $\\sin(z*t)$\n",
    "\n",
    "If a variable is embedded in some digit of a value without any operation symbol, \n",
    "just replace that digit. \n",
    "<br>For example,  z=8 y = 3 $\\Rightarrow$ 12z7 = 1287, 4.3y5 = 4.335\n",
    "\n",
    "Conditional statement may be used, such as\n",
    "if x<5 do task A, otherwise do task B\n",
    "\n",
    "<em>Example: </em> Let $R1 = 1000*x \\,\\Omega, C1 = 10*y \\,\\mu F$\n",
    "\n",
    "<ul>\n",
    "<li />Student A (x=8, y=5) does this problem with R1 = 8000 $\\Omega$, C1 = 50 $\\mu$F\n",
    "<li />Student B (x=1, y=5) does this problem with R1 = 1000 $\\Omega$, C1 = 50 $\\mu$F\n",
    "<li />Student C (x=5, y=3) does this problem with R1 = 5000 $\\Omega$, C1 = 30 $\\mu$F\n",
    "</ul>\n"
   ]
  },
  {
   "cell_type": "code",
   "execution_count": null,
   "id": "46752e44",
   "metadata": {},
   "outputs": [],
   "source": [
    "# You need to install these libraries in the Colab environment\n",
    "#!pip install control"
   ]
  },
  {
   "cell_type": "code",
   "execution_count": 1,
   "id": "49d84df3",
   "metadata": {},
   "outputs": [],
   "source": [
    "# import libraries you want to use\n",
    "import numpy as np\n",
    "import matplotlib.pyplot as plt\n",
    "import control as ctl"
   ]
  },
  {
   "cell_type": "markdown",
   "id": "d791fdb2",
   "metadata": {},
   "source": [
    "### (from previous homeworks)\n",
    "\n",
    "One device commonly used in industrial machines with rotary motion, such as robotic joints, is called a Harmonic Drive from a group of companies Harmonic Drive LLC. motor Hereafter, for the convenience of writing, it is abbreviated as the HDM system.\n",
    "\n",
    "Figure 1 shows the structure of the HDM mechanism consisting of three parts: a circular spline, a flexspline, and an elliptical wave generator. The wave generator is connected to the shaft of a motor that rotates at high speed. A round ring has teeth inside. Between the two are separated by an elastic ring with teeth on the outside.\n",
    "\n",
    "<p align=\"center\">\n",
    "<img src=\"https://drive.google.com/uc?id=1PtcGtTJ2iv81nLHz5Gb5mNnGeM_d5i4c\" width=300 alt=\"Figure 1\"/>\n",
    "</p>\n",
    "<div align=\"center\"><b>Figure 1 HDM structure (https://www.harmonicdrive.net/)</b></div>\n",
    "\n",
    "When drawing a schematic diagram of the HDM device connected to the DC motor, it will be shown in Figure 2. Left side is the motor's electrical system. and on the right is the mechanical system of the harmonic drive, represented by a soft shaft thru-axle gearbox with a hardness of k.\n",
    "\n",
    "<p align=\"center\">\n",
    "<img src=\"https://drive.google.com/uc?id=1OP3LsMAgsHQ5uYdmVLQFHQLq55J-kYd7\" width=550 alt=\"Figure 2\"/>\n",
    "</p>\n",
    "<div align=\"center\"><b>Figure 2 HDM block diagram </b></div>\n",
    "\n",
    "Define\n",
    "$$\n",
    "p_l(s) = J_ls^2 + B_ls + k \\tag{1}\n",
    "$$\n",
    "$$\n",
    "p_m(s) = J_ms^2 + B_ms + k \\tag{2}\n",
    "$$\n",
    "Overall transfer function of HDM can be described as \n",
    "$$\n",
    "P(s) = \\frac{\\theta_l(s)}{V(s)} = \\frac{k_mk}{p_m(s)p_l(s)(Ls+R)-k^2(Ls+R)+rk_mk_bsp_l(s)} \\tag{3}\n",
    "$$\n",
    "assign parameter values (with x, y, z from your student ID)\n",
    "\n",
    "<code>\n",
    "\tkm = (y+z)*100  # torque constant\n",
    "\tkb = 1  # back EMF constant\n",
    "\tk = 1000 # torsional stiffness of harmonic drive\n",
    "\tr = x   # gear ratio\n",
    "\tR = 1  # armature resistance\n",
    "\tL = 0.1 # armature inductance\n",
    "\tJm = (x+y)  #  motor inertia\n",
    "\tBm = 0.01*y  # motor shaft friction\n",
    "\tJl = (x+z)  # load inertia\n",
    "\tBl = 0.01*z  # load friction\n",
    "</code>\n",
    "\n",
    "Write code to create a plant transfer function of HDM as in (3) \n",
    "\n",
    "#### Copy your solution from HW2\n"
   ]
  },
  {
   "cell_type": "code",
   "execution_count": 2,
   "id": "55e1d9e4",
   "metadata": {},
   "outputs": [],
   "source": [
    "#Change student ID variables to match your ID.\n",
    "id_x = 2\n",
    "id_y = 5\n",
    "id_z = 8"
   ]
  },
  {
   "cell_type": "code",
   "execution_count": 3,
   "id": "1bed7706",
   "metadata": {},
   "outputs": [
    {
     "data": {
      "text/latex": [
       "$$\\frac{1.3 \\times 10^{6}}{7 s^5 + 70.11 s^4 + 2.77 \\times 10^{4} s^3 + 1.722 \\times 10^{4} s^2 + 2.6 \\times 10^{6} s}$$"
      ],
      "text/plain": [
       "TransferFunction(array([1300000]), array([7.00000000e+00, 7.01060000e+01, 2.77010604e+04, 1.72210040e+04,\n",
       "       2.60013000e+06, 0.00000000e+00]))"
      ]
     },
     "execution_count": 3,
     "metadata": {},
     "output_type": "execute_result"
    }
   ],
   "source": [
    "km = (id_y+id_z)*100  # torque constant\n",
    "kb = 1  # back EMF constant\n",
    "k = 1000 # torsional stiffness of harmonic drive\n",
    "r = id_x   # gear ratio\n",
    "R = 1  # armature resistance\n",
    "L = 0.1 # armature inductance\n",
    "Jm = (id_x+id_y)  #  motor inertia\n",
    "Bm = 0.01*id_y  # motor shaft friction\n",
    "Jl = (id_x+id_z)  # load inertia\n",
    "Bl = 0.01*id_z  # load friction\t\n",
    "s = ctl.tf(\"s\")\n",
    "p_l = Jl*s**2 + Bl*s + k\n",
    "p_m = Jm*s**2 + Bm*s + k\n",
    "P = km*k/(p_m*p_l*(L*s+R) - (k**2)*(L*s+R) + r*km*kb*s*p_l)\n",
    "P"
   ]
  },
  {
   "cell_type": "code",
   "execution_count": null,
   "id": "15f55965",
   "metadata": {},
   "outputs": [],
   "source": []
  },
  {
   "cell_type": "code",
   "execution_count": null,
   "id": "4a7eada6",
   "metadata": {},
   "outputs": [],
   "source": []
  },
  {
   "cell_type": "markdown",
   "id": "3d9f5015",
   "metadata": {},
   "source": [
    "#### Result from homework 4\n",
    "\n",
    "Figure 3 shows cascaded PID structure (for a robot joint driven by simple \n",
    "DC motor) to improve closed-loop performance.  \n",
    "\n",
    "<p align=\"center\">\n",
    "<img src=\"https://drive.google.com/uc?id=1uUQjWyLEXP1XmwUTk5KpU6Tcr84k61G7\" width=550 alt=\"Figure 4\"/>\n",
    "</p>\n",
    "<div align=\"center\"><b>Figure 3 cascaded PID control</b></div>\n",
    "\n",
    "Extract the integrator from the HDM plant in HW2 (in above cell) to use it in the outer loop \n",
    "as shown in Figure 3. The rest of the plant transfer function is in the inner-loop. For both \n",
    "loops, use the following PID equation \n",
    "\n",
    "$$\n",
    "C(s) = K_p + \\frac{K_i}{s} + \\frac{NK_d}{N/s+1}\n",
    "$$\n",
    "\n",
    "***\n",
    "\n",
    "**P1** (10 points)\n",
    "\n",
    "Implement the discrete cascaded PID controllers from HW4. Some of the code such as plant simulation is \n",
    "provided for you. Just fill in the missing code."
   ]
  },
  {
   "cell_type": "markdown",
   "id": "b2bb487f",
   "metadata": {},
   "source": [
    "#### Solution"
   ]
  },
  {
   "cell_type": "markdown",
   "id": "cc0e97d9",
   "metadata": {},
   "source": [
    "Create a PID function to be used in simulation."
   ]
  },
  {
   "cell_type": "code",
   "execution_count": 4,
   "id": "43935226",
   "metadata": {},
   "outputs": [],
   "source": [
    "def PID(kp, ki,kd,N):\n",
    "    s = ctl.tf(\"s\")\n",
    "    C = kp + ki/s + kd*s*N/(s+N)\n",
    "    return C"
   ]
  },
  {
   "cell_type": "markdown",
   "id": "55ce0a6e",
   "metadata": {},
   "source": [
    "Consider the HDM plant from P1. Factorize it as \n",
    "$$\n",
    "P(s) = P_{inner}(s)\\frac{1}{s}\n",
    "$$\n",
    "So can find $P_{inner}(s)$ from\n",
    "$$\n",
    "P_{inner}(s) = sP(s)\n",
    "$$"
   ]
  },
  {
   "cell_type": "code",
   "execution_count": 5,
   "id": "de700013",
   "metadata": {},
   "outputs": [
    {
     "name": "stdout",
     "output_type": "stream",
     "text": [
      "1 states have been removed from the model\n"
     ]
    },
    {
     "data": {
      "text/latex": [
       "$$\\frac{1.857 \\times 10^{5}}{s^4 + 10.02 s^3 + 3957 s^2 + 2460 s + 3.714 \\times 10^{5}}$$"
      ],
      "text/plain": [
       "TransferFunction(array([185714.28571429]), array([1.00000000e+00, 1.00151429e+01, 3.95729434e+03, 2.46014343e+03,\n",
       "       3.71447143e+05]))"
      ]
     },
     "execution_count": 5,
     "metadata": {},
     "output_type": "execute_result"
    }
   ],
   "source": [
    "P_inner = ctl.minreal(s*P)\n",
    "P_inner"
   ]
  },
  {
   "cell_type": "markdown",
   "id": "e6e47ebc",
   "metadata": {},
   "source": [
    "Construct cascaded PID to simulate the response. Use PID parameters achieved from Homework 4. \n",
    "(If you are \n",
    "unsuccessful with that homework, simply  use a set of parameters that yields closed-loop stability and decent \n",
    "step response.)"
   ]
  },
  {
   "cell_type": "code",
   "execution_count": 6,
   "id": "9e5d1016",
   "metadata": {},
   "outputs": [],
   "source": [
    "Kp1 = 2.3\n",
    "Ki1 = 0.8\n",
    "Kd1 = 0.6\n",
    "N1 = 20\n",
    "Kp2 = 1.6\n",
    "Ki2 = 1.3\n",
    "Kd2 = 0.1\n",
    "N2 = 20"
   ]
  },
  {
   "cell_type": "code",
   "execution_count": 7,
   "id": "7a6de841",
   "metadata": {},
   "outputs": [
    {
     "name": "stdout",
     "output_type": "stream",
     "text": [
      "0 states have been removed from the model\n"
     ]
    },
    {
     "data": {
      "image/png": "[encoded data removed]",
      "text/plain": [
       "<Figure size 576x288 with 1 Axes>"
      ]
     },
     "metadata": {
      "needs_background": "light"
     },
     "output_type": "display_data"
    }
   ],
   "source": [
    "C_pid_inner = PID(Kp1,Ki1,Kd1,N1)\n",
    "L_inner = C_pid_inner*P_inner\n",
    "T_inner = ctl.feedback(L_inner)\n",
    "C_pid_outer = PID(Kp2,Ki2,Kd2,N2)\n",
    "P_outer = 1/s\n",
    "L_outer = C_pid_outer*T_inner*P_outer\n",
    "T_outer = ctl.minreal(ctl.feedback(L_outer))\n",
    "tvec = np.arange(0,20,0.001)\n",
    "tv, y = ctl.step_response(T_outer,tvec)\n",
    "r = np.ones(tv.shape)\n",
    "plt.figure(figsize=(8,4))\n",
    "plt.plot(tv,r,'b-.',tv,y,'r-')\n",
    "plt.grid('True')\n",
    "plt.xlabel('time (sec)')\n",
    "plt.ylabel('output')\n",
    "plt.legend(['step ref.','y(t)'])\n",
    "plt.title('Closed-loop step response')\n",
    "plt.show()"
   ]
  },
  {
   "cell_type": "markdown",
   "id": "1eb0e8a1",
   "metadata": {},
   "source": [
    "Use PID class from https://github.com/dewdotninja/control_python/blob/main/adv_pid_class_implement.ipynb.\n",
    "\n",
    "**Note :** The code is for full-featured PID. So we must modify it to conform to this homework.\n"
   ]
  },
  {
   "cell_type": "code",
   "execution_count": 8,
   "id": "24064047",
   "metadata": {},
   "outputs": [],
   "source": [
    "# PID controller class\n",
    "class PID:\n",
    "    def __init__(self,kp,ki,kd,n,ts):\n",
    "        # PID parameters\n",
    "        self.kp = kp\n",
    "        self.ki = ki\n",
    "        self.kd = kd\n",
    "        self.n = n\n",
    "        self.ts = ts\n",
    "        \n",
    "        # controller states\n",
    "        self.e1 = 0\n",
    "        self.e0 = 0\n",
    "        self.up0 = 0\n",
    "        self.ui1 = 0\n",
    "        self.ui0 = 0\n",
    "        self.ud1 = 0\n",
    "        self.ud0 = 0\n",
    "        self.cd0 = 0  # coefficients for derivative output\n",
    "        self.cd1 = 0\n",
    "        self.update()\n",
    "        \n",
    "    # parameter getters & setters \n",
    "    def getkp(self):\n",
    "        return self.kp\n",
    "    def getki(self):\n",
    "        return self.ki\n",
    "    def getkd(self):\n",
    "        return self.kd\n",
    "    def getn(self):\n",
    "        return self.n\n",
    "    def getts(self):\n",
    "        return self.ts\n",
    "    def getparms(self):\n",
    "        parms = np.array([self.kp,self.ki,self.kd,self.n,self.ts])\n",
    "        return parms\n",
    "\n",
    "    def setkp(self,kp):\n",
    "        self.kp = kp\n",
    "    def setki(self,ki):\n",
    "        self.ki = ki\n",
    "    def setkd(self,kd):\n",
    "        self.kd = kd\n",
    "    def setn(self,n):\n",
    "        self.n = n\n",
    "    def setts(self,ts):\n",
    "        self.ts = ts\n",
    "    def setparms(self,parms):\n",
    "        self.kp = parms[0]\n",
    "        self.ki = parms[1]\n",
    "        self.kd = parms[2]\n",
    "        self.n = parms[4]\n",
    "        self.ts = parms[7]\n",
    "\n",
    "    def update(self): # coefficient update\n",
    "        self.cd0 = -(self.n*self.ts -2)/(2+self.n*self.ts)\n",
    "        self.cd1 = 2*self.kd*self.n/(2+self.n*self.ts)\n",
    "        \n",
    "    # reset controller states\n",
    "    def reset(self):\n",
    "        self.e1 = 0\n",
    "        self.e0 = 0\n",
    "        self.up0 = 0\n",
    "        self.ui1 = 0\n",
    "        self.ui0 = 0\n",
    "        self.ud1 = 0\n",
    "        self.ud0 = 0\n",
    "        self.u = 0\n",
    "\n",
    "    def out(self,r,y):\n",
    "        # state transfer\n",
    "        self.e1 = self.e0\n",
    "        \n",
    "        self.ui1 = self.ui0\n",
    "        self.ud1 = self.ud0\n",
    "        # compute errors for each term\n",
    "        self.e0 = r - y\n",
    "        \n",
    "        self.up0 = self.kp*self.e0 # output of P term\n",
    "        self.ui0 = self.ui1 +0.5*self.ki*self.ts*(self.e0+self.e1) # output of I term\n",
    "        self.ud0 = self.cd0*self.ud1 +self.cd1*(self.e0 - self.e1) # output of D term\n",
    "        self.u = self.up0 + self.ui0 + self.ud0        \n",
    "        return self.u"
   ]
  },
  {
   "cell_type": "code",
   "execution_count": 9,
   "id": "45ecadf2",
   "metadata": {},
   "outputs": [],
   "source": [
    "Ts = 0.001 # sampling period"
   ]
  },
  {
   "cell_type": "code",
   "execution_count": 10,
   "id": "51e7d9f2",
   "metadata": {},
   "outputs": [],
   "source": [
    "# create PID instances for inner and outer loops\n",
    "pid_inner = PID(Kp1,Ki1,Kd1,N1,Ts)\n",
    "pid_outer = PID(Kp2,Ki2,Kd2,N2,Ts)"
   ]
  },
  {
   "cell_type": "markdown",
   "id": "8c89a575",
   "metadata": {},
   "source": [
    "For plant simulation, we define the class as in https://github.com/dewdotninja/control_python/blob/main/discrete_implement_oop.ipynb"
   ]
  },
  {
   "cell_type": "code",
   "execution_count": 11,
   "id": "2a552661",
   "metadata": {},
   "outputs": [],
   "source": [
    "class DF2:\n",
    "    def __init__(self,num,den,ts):\n",
    "        self.num = num\n",
    "        self.den = den\n",
    "        self.ts = ts  # keep sampling time for reference only.\n",
    "        self.order = len(self.den)\n",
    "        self.states = np.zeros((self.order,1))\n",
    "        self.y = 0.0\n",
    "        \n",
    "    def state_update(self): # update state vectors\n",
    "        for k in range(self.order-1):\n",
    "            self.states[self.order-k-1] = self.states[self.order-k-2]\n",
    "    \n",
    "    def reset(self):\n",
    "        for k in range(self.order-1):\n",
    "            self.states[k] = 0.0\n",
    "    \n",
    "    def out(self, u): # compute output\n",
    "        self.states[0] = u\n",
    "        y = self.num[0]*u\n",
    "        for k in range(self.order-1):\n",
    "            self.states[0] = self.states[0] -self.den[k+1]*self.states[k+1]\n",
    "            y = y + (self.num[k+1] - self.num[0]*self.den[k+1])*self.states[k+1]   \n",
    "        return y\n",
    "        "
   ]
  },
  {
   "cell_type": "markdown",
   "id": "8d71d1e9",
   "metadata": {},
   "source": [
    "Extract the numerator and denominator coefficients from the plant transfer functions."
   ]
  },
  {
   "cell_type": "code",
   "execution_count": 12,
   "id": "b4e6a5fc",
   "metadata": {},
   "outputs": [],
   "source": [
    "Pd_inner = ctl.sample_system(P_inner, Ts, method='tustin')\n",
    "Pdnum_inner, Pdden_inner = ctl.tfdata(Pd_inner)\n",
    "pnum_inner = np.squeeze(np.array(Pdnum_inner))\n",
    "pden_inner = np.squeeze(np.array(Pdden_inner))"
   ]
  },
  {
   "cell_type": "code",
   "execution_count": 13,
   "id": "255ee7da",
   "metadata": {},
   "outputs": [],
   "source": [
    "Pd_outer = ctl.sample_system(P_outer, Ts, method='tustin')\n",
    "Pdnum_outer, Pdden_outer = ctl.tfdata(Pd_outer)\n",
    "pnum_outer = np.squeeze(np.array(Pdnum_outer))\n",
    "pden_outer = np.squeeze(np.array(Pdden_outer))"
   ]
  },
  {
   "cell_type": "markdown",
   "id": "0e7c91d1",
   "metadata": {},
   "source": [
    "Create plant instances."
   ]
  },
  {
   "cell_type": "code",
   "execution_count": 14,
   "id": "ea1b59e8",
   "metadata": {},
   "outputs": [],
   "source": [
    "p_inner = DF2(pnum_inner,pden_inner,Ts)\n",
    "p_outer = DF2(pnum_outer,pden_outer,Ts)"
   ]
  },
  {
   "cell_type": "code",
   "execution_count": 15,
   "id": "947a8815",
   "metadata": {},
   "outputs": [],
   "source": [
    "tvec = np.arange(0,20,Ts)\n",
    "tv, yc = ctl.step_response(T_outer,tvec) # used for comparison\n",
    "rvec = np.ones(tvec.shape)\n",
    "yvec = np.zeros(tvec.shape)"
   ]
  },
  {
   "cell_type": "markdown",
   "id": "775b4def",
   "metadata": {},
   "source": [
    "Note that the code for simulation is much simpler when OOP approach is used.\n"
   ]
  },
  {
   "cell_type": "code",
   "execution_count": 16,
   "id": "9846b897",
   "metadata": {},
   "outputs": [],
   "source": [
    "i=0\n",
    "\n",
    "pid_inner.reset()\n",
    "pid_outer.reset()\n",
    "p_inner.reset()\n",
    "p_outer.reset()\n",
    "\n",
    "co_inner = 0\n",
    "co_outer = 0\n",
    "po_inner = 0\n",
    "po_outer = 0\n",
    "for i in range(len(tvec)):\n",
    "    # state updates\n",
    "    p_inner.state_update()\n",
    "    p_outer.state_update()\n",
    "        \n",
    "    co_outer = pid_outer.out(rvec[i],po_outer)    \n",
    "    co_inner = pid_inner.out(co_outer,po_inner)    \n",
    "    po_inner = p_inner.out(co_inner)\n",
    "    po_outer = p_outer.out(po_inner)\n",
    "\n",
    "    yvec[i] = po_outer"
   ]
  },
  {
   "cell_type": "code",
   "execution_count": 17,
   "id": "34d6d494",
   "metadata": {},
   "outputs": [
    {
     "data": {
      "image/png": "[encoded data removed]",
      "text/plain": [
       "<Figure size 432x288 with 1 Axes>"
      ]
     },
     "metadata": {
      "needs_background": "light"
     },
     "output_type": "display_data"
    }
   ],
   "source": [
    "plt.figure()\n",
    "plt.plot(tvec,rvec,'r-',tvec, yc,'b-.',tvec,yvec,'m-')\n",
    "plt.grid('True')\n",
    "plt.xlabel('time (sec)')\n",
    "plt.ylabel('y(t)')\n",
    "plt.legend(['ref.cmd','y (continuous-time)','y (discrete-time)'])\n",
    "plt.title(\"Plant output\")\n",
    "plt.show()"
   ]
  },
  {
   "cell_type": "code",
   "execution_count": null,
   "id": "07e2fd28",
   "metadata": {},
   "outputs": [],
   "source": []
  }
 ],
 "metadata": {
  "kernelspec": {
   "display_name": "Python 3.9 (tensorflow2)",
   "language": "python",
   "name": "tensorflow2"
  },
  "language_info": {
   "codemirror_mode": {
    "name": "ipython",
    "version": 3
   },
   "file_extension": ".py",
   "mimetype": "text/x-python",
   "name": "python",
   "nbconvert_exporter": "python",
   "pygments_lexer": "ipython3",
   "version": "3.9.13"
  }
 },
 "nbformat": 4,
 "nbformat_minor": 5
}

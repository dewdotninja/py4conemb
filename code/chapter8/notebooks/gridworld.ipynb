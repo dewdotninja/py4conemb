{
 "cells": [
  {
   "cell_type": "code",
   "execution_count": 1,
   "id": "be277447",
   "metadata": {},
   "outputs": [],
   "source": [
    "# implement value iteration for 6 x 6 gridworld\n",
    "import numpy as np\n",
    "import matplotlib.pyplot as plt\n",
    "from matplotlib.patches import Rectangle"
   ]
  },
  {
   "cell_type": "code",
   "execution_count": 11,
   "id": "f6050f37",
   "metadata": {},
   "outputs": [],
   "source": [
    "# GridWorld6x6 class\n",
    "# arguments :\n",
    "# rmat : 6x6 matrix specifying rewards for each 36 states\n",
    "# p : p(s'|s,a) probability of choosing action a. Default = 0.8\n",
    "# gamma : discount factor. Default = 0.9\n",
    "# eps : threshold to stop. Default = 0.001\n",
    "\n",
    "class GridWorld6x6:\n",
    "    def __init__(self,rmat= np.zeros((6,6)),mask = np.ones((6,6)),terminal = np.zeros((6,6)), p=0.8,gamma=0.9,eps=0.001):\n",
    "        self.rmat = rmat\n",
    "        self.mask = mask\n",
    "        self.terminal = terminal\n",
    "        self.vmat = np.zeros((6,6)) # value intialized to zero\n",
    "        self.vmat_e = np.zeros((8,8))\n",
    "        self.pimat = np.zeros((6,6)) #0=NORTH,1=EAST,2=SOUTH,3=WEST\n",
    "        self.p = p # prob of intended policy\n",
    "        self.pe = 0.5*(1-p) # prob that it wanders in undesired direction\n",
    "        self.gamma = gamma\n",
    "        self.eps = eps\n",
    "        self.iter = 0\n",
    "    # def setreward(self,row,col,val): # assign reward to a state (grid). First state is (0,0)\n",
    "    #     self.rmat[row,col] = val\n",
    "    # def setobstacle(self,row,col): # specify an obstacle grid\n",
    "    #     self.mask[row,col] = 0\n",
    "    # def setterminal(self,row,col): # specify a terminal grid\n",
    "    #     self.terminal[row,col] = 1\n",
    "    def setgrid(self, rmat, mask, terminal): # set all matrices\n",
    "        self.rmat = rmat\n",
    "        self.mask = mask\n",
    "        self.terminal = terminal\n",
    "\n",
    "    \n",
    "    def setp(self,p):\n",
    "        self.p = p\n",
    "    def setgamma(self,gamma):\n",
    "        self.gamma = gamma\n",
    "    def seteps(self, eps):\n",
    "        self.eps = eps\n",
    "    def getvmat(self):\n",
    "        return np.round(self.vmat,2)\n",
    "    def getpimat(self):\n",
    "        return self.pimat\n",
    "    def evalpi(self): # evaluate optimal policy\n",
    "        # 0 = NORTH, 1 = EAST, 2 = SOUTH, 3 = WEST\n",
    "        # augment edge of -inf to ease argmax() operation\n",
    "        hedge = np.array([[-np.inf],[-np.inf],[-np.inf],[-np.inf],[-np.inf],[-np.inf]])\n",
    "        self.vmat_e =  np.hstack((hedge,self.vmat,hedge))\n",
    "        vedge = np.array([-np.inf,-np.inf,-np.inf,-np.inf,-np.inf,-np.inf,-np.inf,-np.inf])\n",
    "        self.vmat_e = np.vstack((vedge,self.vmat_e,vedge))\n",
    "        for i in range(6):\n",
    "            for j in range(6):\n",
    "                if not self.mask[i,j]: #  an obstacle grid\n",
    "                    self.vmat_e[i+1,j+1] = -np.inf\n",
    "        for i in range(1,7):\n",
    "            for j in range(1,7):\n",
    "                if self.mask[i-1,j-1]: # not an obstacle grid\n",
    "                    v_north = self.vmat_e[i-1,j]\n",
    "                    v_east = self.vmat_e[i,j+1]\n",
    "                    v_south = self.vmat_e[i+1,j]\n",
    "                    v_west = self.vmat_e[i,j-1]\n",
    "                    a = np.argmax([v_north,v_east,v_south,v_west])\n",
    "                    self.pimat[i-1,j-1] = a\n",
    "                else: # obstacle\n",
    "                    self.pimat[i-1,j-1] = -100\n",
    "                if self.terminal[i-1,j-1]>0: # a positive terminal grid\n",
    "                    self.pimat[i-1,j-1] = 10\n",
    "                elif self.terminal[i-1,j-1]<0: # a negative terminal grid\n",
    "                    self.pimat[i-1,j-1] = -10\n",
    "        return self.pimat\n",
    "\n",
    "    def solve(self):\n",
    "        # self.iter = 0\n",
    "        while self.iter<1000:\n",
    "            self.step()\n",
    "            # self.iter+=1\n",
    "            #print(self.vmat)\n",
    "            #print(\"Norm = \"+str(np.linalg.norm(self.vmat - vmat1)))\n",
    "            if np.linalg.norm(self.vmat - self.vmat1)<self.eps: \n",
    "                break\n",
    "        print(\"Value iteration finishes at {} iterations\".format(self.iter))\n",
    "        return self.vmat                        \n",
    "        \n",
    "    def step(self):  # one step of dynamic programming of gridworld. Use in-place method\n",
    "        # values correspoinding to x1 = NORTH, x2 = EAST, x3 = SOUTH, x4 = WEST\n",
    "        # iter = 0\n",
    "        # while iter<1000:\n",
    "        self.vmat1 = self.vmat.copy() \n",
    "        for i in range(6):\n",
    "            for j in range(6):\n",
    "                if self.mask[i,j] and not self.terminal[i,j]:  # not an obstacle grid nor a terminal grid\n",
    "                    # case 1: NORTH obstacle only\n",
    "                    if (i==0 or self.mask[i-1,j]==0) \\\n",
    "                    and not (j==5 or self.mask[i,j+1]==0) \\\n",
    "                    and not (i==5 or self.mask[i+1,j]==0) \\\n",
    "                    and not (j==0 or self.mask[i,j-1]==0): \n",
    "                        x1 = (self.p*self.vmat[i,j] + self.pe*self.vmat[i,j+1] + \n",
    "                              self.pe*self.vmat[i,j-1]) # go NORTH\n",
    "                        x2 = (self.p*self.vmat[i,j+1]+self.pe*self.vmat[i,j] + \n",
    "                              self.pe*self.vmat[i+1,j]) # go EAST\n",
    "                        x3 = (self.p*self.vmat[i+1,j]+self.pe*self.vmat[i,j+1] + \n",
    "                              self.pe*self.vmat[i,j-1]) # go SOUTH\n",
    "                        x4 = (self.p*self.vmat[i,j-1]+self.pe*self.vmat[i,j]+\n",
    "                              self.pe*self.vmat[i+1,j]) # go WEST\n",
    "                    # case 2: NORTH and EAST obstacles\n",
    "                    elif (i==0 or self.mask[i-1,j]==0) \\\n",
    "                    and (j==5 or self.mask[i,j+1]==0) \\\n",
    "                    and not (i==5 or self.mask[i+1,j]==0) \\\n",
    "                    and not (j==0 or self.mask[i,j-1]==0): \n",
    "                        x1 = (self.p*self.vmat[i,j] + self.pe*self.vmat[i,j] + \n",
    "                              self.pe*self.vmat[i,j-1]) # go NORTH\n",
    "                        x2 = (self.p*self.vmat[i,j]+self.pe*self.vmat[i,j] + \n",
    "                              self.pe*self.vmat[i+1,j]) # go EAST\n",
    "                        x3 = (self.p*self.vmat[i+1,j]+self.pe*self.vmat[i,j] + \n",
    "                              self.pe*self.vmat[i,j-1]) # go SOUTH\n",
    "                        x4 = (self.p*self.vmat[i,j-1]+self.pe*self.vmat[i,j]+\n",
    "                              self.pe*self.vmat[i+1,j]) # go WEST                       \n",
    "                    # case 3: NORTH and SOUTH obstacles\n",
    "                    elif (i==0 or self.mask[i-1,j]==0) \\\n",
    "                    and not (j==5 or self.mask[i,j+1]==0) \\\n",
    "                    and (i==5 or self.mask[i+1,j]==0) \\\n",
    "                    and not (j==0 or self.mask[i,j-1]==0): \n",
    "                        x1 = (self.p*self.vmat[i,j] + self.pe*self.vmat[i,j+1] + \n",
    "                              self.pe*self.vmat[i,j-1]) # go NORTH\n",
    "                        x2 = (self.p*self.vmat[i,j+1]+self.pe*self.vmat[i,j] + \n",
    "                              self.pe*self.vmat[i,j]) # go EAST\n",
    "                        x3 = (self.p*self.vmat[i,j]+self.pe*self.vmat[i,j+1] + \n",
    "                              self.pe*self.vmat[i,j-1]) # go SOUTH\n",
    "                        x4 = (self.p*self.vmat[i,j-1]+self.pe*self.vmat[i,j]+\n",
    "                              self.pe*self.vmat[i,j]) # go WEST\n",
    "                    # case 4: NORTH and WEST obstacles\n",
    "                    elif (i==0 or self.mask[i-1,j]==0) \\\n",
    "                    and not (j==5 or self.mask[i,j+1]==0) \\\n",
    "                    and not (i==5 or self.mask[i+1,j]==0) \\\n",
    "                    and (j==0 or self.mask[i,j-1]==0): \n",
    "                        x1 = (self.p*self.vmat[i,j] + self.pe*self.vmat[i,j+1] + \n",
    "                              self.pe*self.vmat[i,j]) # go NORTH\n",
    "                        x2 = (self.p*self.vmat[i,j+1]+self.pe*self.vmat[i,j] + \n",
    "                              self.pe*self.vmat[i+1,j]) # go EAST\n",
    "                        x3 = (self.p*self.vmat[i+1,j]+self.pe*self.vmat[i,j+1] + \n",
    "                              self.pe*self.vmat[i,j]) # go SOUTH\n",
    "                        x4 = (self.p*self.vmat[i,j]+self.pe*self.vmat[i,j]+\n",
    "                              self.pe*self.vmat[i+1,j]) # go WEST\n",
    "                    # case 5: EAST obstacle only\n",
    "                    elif (j==5 or self.mask[i,j+1]==0) \\\n",
    "                    and not (i==0 or self.mask[i-1,j]==0) \\\n",
    "                    and not (i==5 or self.mask[i+1,j]==0) \\\n",
    "                    and not (j==0 or self.mask[i,j-1]==0): \n",
    "                        x1 = (self.p*self.vmat[i-1,j] + self.pe*self.vmat[i,j-1] + \n",
    "                              self.pe*self.vmat[i,j]) # go NORTH\n",
    "                        x2 = (self.p*self.vmat[i,j]+self.pe*self.vmat[i-1,j] + \n",
    "                              self.pe*self.vmat[i+1,j]) # go EAST\n",
    "                        x3 = (self.p*self.vmat[i+1,j]+self.pe*self.vmat[i,j-1] + \n",
    "                              self.pe*self.vmat[i,j]) # go SOUTH\n",
    "                        x4 = (self.p*self.vmat[i,j-1]+self.pe*self.vmat[i-1,j]+\n",
    "                              self.pe*self.vmat[i+1,j]) # go WEST\n",
    "                    # case 6: EAST and SOUTH obstacles\n",
    "                    elif (j==5 or self.mask[i,j+1]==0) \\\n",
    "                    and not (i==0 or self.mask[i-1,j]==0) \\\n",
    "                    and (i==5 or self.mask[i+1,j]==0) \\\n",
    "                    and not (j==0 or self.mask[i,j-1]==0): \n",
    "                        x1 = (self.p*self.vmat[i-1,j] + self.pe*self.vmat[i,j-1] + \n",
    "                              self.pe*self.vmat[i,j]) # go NORTH\n",
    "                        x2 = (self.p*self.vmat[i,j]+self.pe*self.vmat[i-1,j] + \n",
    "                              self.pe*self.vmat[i,j]) # go EAST\n",
    "                        x3 = (self.p*self.vmat[i,j]+self.pe*self.vmat[i,j-1] + \n",
    "                              self.pe*self.vmat[i,j]) # go SOUTH\n",
    "                        x4 = (self.p*self.vmat[i,j-1]+self.pe*self.vmat[i-1,j]+\n",
    "                              self.pe*self.vmat[i,j]) # go WEST\n",
    "                    # case 7: EAST and WEST obstacles\n",
    "                    elif (j==5 or self.mask[i,j+1]==0) \\\n",
    "                    and not (i==0 or self.mask[i-1,j]==0) \\\n",
    "                    and not (i==5 or self.mask[i+1,j]==0) \\\n",
    "                    and (j==0 or self.mask[i,j-1]==0): \n",
    "                        x1 = (self.p*self.vmat[i-1,j] + self.pe*self.vmat[i,j] + \n",
    "                              self.pe*self.vmat[i,j]) # go NORTH\n",
    "                        x2 = (self.p*self.vmat[i,j]+self.pe*self.vmat[i-1,j] + \n",
    "                              self.pe*self.vmat[i+1,j]) # go EAST\n",
    "                        x3 = (self.p*self.vmat[i+1,j]+self.pe*self.vmat[i,j] + \n",
    "                              self.pe*self.vmat[i,j]) # go SOUTH\n",
    "                        x4 = (self.p*self.vmat[i,j]+self.pe*self.vmat[i-1,j]+\n",
    "                              self.pe*self.vmat[i+1,j]) # go WEST\n",
    "                    # case 8: SOUTH obstacle only\n",
    "                    elif (i==5 or self.mask[i+1,j]==0) \\\n",
    "                    and not (i==0 or self.mask[i-1,j]==0) \\\n",
    "                    and not (j==5 or self.mask[i,j+1]==0) \\\n",
    "                    and not (j==0 or self.mask[i,j-1]==0): \n",
    "                        x1 = (self.p*self.vmat[i-1,j] + self.pe*self.vmat[i,j+1] + \n",
    "                              self.pe*self.vmat[i,j-1]) # go NORTH\n",
    "                        x2 = (self.p*self.vmat[i,j+1]+self.pe*self.vmat[i-1,j] + \n",
    "                              self.pe*self.vmat[i,j]) # go EAST\n",
    "                        x3 = (self.p*self.vmat[i,j]+self.pe*self.vmat[i,j+1] + \n",
    "                              self.pe*self.vmat[i,j-1]) # go SOUTH\n",
    "                        x4 = (self.p*self.vmat[i,j-1]+self.pe*self.vmat[i-1,j]+\n",
    "                              self.pe*self.vmat[i,j]) # go WEST\n",
    "                    # case 9: SOUTH and WEST obstacles\n",
    "                    elif (i==5 or self.mask[i+1,j]==0) \\\n",
    "                    and not (i==0 or self.mask[i-1,j]==0) \\\n",
    "                    and not (j==5 or self.mask[i,j+1]==0) \\\n",
    "                    and (j==0 or self.mask[i,j-1]==0): \n",
    "                        x1 = (self.p*self.vmat[i-1,j] + self.pe*self.vmat[i,j+1] + \n",
    "                              self.pe*self.vmat[i,j]) # go NORTH\n",
    "                        x2 = (self.p*self.vmat[i,j+1]+self.pe*self.vmat[i-1,j] + \n",
    "                              self.pe*self.vmat[i,j]) # go EAST\n",
    "                        x3 = (self.p*self.vmat[i,j]+self.pe*self.vmat[i,j+1] + \n",
    "                              self.pe*self.vmat[i,j]) # go SOUTH\n",
    "                        x4 = (self.p*self.vmat[i,j]+self.pe*self.vmat[i-1,j]+\n",
    "                              self.pe*self.vmat[i,j]) # go WEST\n",
    "                    # case 10: WEST obstacle only\n",
    "                    elif (j==0 or self.mask[i,j-1]==0) \\\n",
    "                    and not (i==0 or self.mask[i-1,j]==0) \\\n",
    "                    and not (j==5 or self.mask[i,j+1]==0) \\\n",
    "                    and not (i==5 or self.mask[i+1,j]==0): \n",
    "                        x1 = (self.p*self.vmat[i-1,j] + self.pe*self.vmat[i,j+1] + \n",
    "                              self.pe*self.vmat[i,j]) # go NORTH\n",
    "                        x2 = (self.p*self.vmat[i,j+1]+self.pe*self.vmat[i-1,j] + \n",
    "                              self.pe*self.vmat[i+1,j]) # go EAST\n",
    "                        x3 = (self.p*self.vmat[i+1,j]+self.pe*self.vmat[i,j+1] + \n",
    "                              self.pe*self.vmat[i,j]) # go SOUTH\n",
    "                        x4 = (self.p*self.vmat[i,j]+self.pe*self.vmat[i-1,j]+\n",
    "                              self.pe*self.vmat[i+1,j]) # go WEST\n",
    "                    # case 11: NORTH, EAST, SOUTH obstacles\n",
    "                    elif (i==0 or self.mask[i-1,j]==0) \\\n",
    "                    and not (j==0 or self.mask[i,j-1]==0) \\\n",
    "                    and (j==5 or self.mask[i,j+1]==0) \\\n",
    "                    and (i==5 or self.mask[i+1,j]==0): \n",
    "                        x1 = (self.p*self.vmat[i,j] + self.pe*self.vmat[i,j] + \n",
    "                              self.pe*self.vmat[i,j-1]) # go NORTH\n",
    "                        x2 = (self.p*self.vmat[i,j]+self.pe*self.vmat[i,j] + \n",
    "                              self.pe*self.vmat[i,j]) # go EAST\n",
    "                        x3 = (self.p*self.vmat[i,j]+self.pe*self.vmat[i,j-1] + \n",
    "                              self.pe*self.vmat[i,j]) # go SOUTH\n",
    "                        x4 = (self.p*self.vmat[i,j-1]+self.pe*self.vmat[i,j]+\n",
    "                              self.pe*self.vmat[i,j]) # go WEST\n",
    "                    # case 12: NORTH, EAST, WEST obstacles\n",
    "                    elif (i==0 or self.mask[i-1,j]==0) \\\n",
    "                    and (j==0 or self.mask[i,j-1]==0) \\\n",
    "                    and (j==5 or self.mask[i,j+1]==0) \\\n",
    "                    and not (i==5 or self.mask[i+1,j]==0): \n",
    "                        x1 = (self.p*self.vmat[i,j] + self.pe*self.vmat[i,j] + \n",
    "                              self.pe*self.vmat[i,j]) # go NORTH\n",
    "                        x2 = (self.p*self.vmat[i,j]+self.pe*self.vmat[i,j] + \n",
    "                              self.pe*self.vmat[i+1,j]) # go EAST\n",
    "                        x3 = (self.p*self.vmat[i+1,j]+self.pe*self.vmat[i,j] + \n",
    "                              self.pe*self.vmat[i,j]) # go SOUTH\n",
    "                        x4 = (self.p*self.vmat[i,j]+self.pe*self.vmat[i,j]+\n",
    "                              self.pe*self.vmat[i+1,j]) # go WEST\n",
    "                    # case 13: NORTH, SOUTH, WEST obstacles\n",
    "                    elif (i==0 or self.mask[i-1,j]==0) \\\n",
    "                    and (j==0 or self.mask[i,j-1]==0) \\\n",
    "                    and not (j==5 or self.mask[i,j+1]==0) \\\n",
    "                    and (i==5 or self.mask[i+1,j]==0): \n",
    "                        x1 = (self.p*self.vmat[i,j] + self.pe*self.vmat[i,j+1] + \n",
    "                              self.pe*self.vmat[i,j]) # go NORTH\n",
    "                        x2 = (self.p*self.vmat[i,j+1]+self.pe*self.vmat[i,j] + \n",
    "                              self.pe*self.vmat[i,j]) # go EAST\n",
    "                        x3 = (self.p*self.vmat[i,j]+self.pe*self.vmat[i,j+1] + \n",
    "                              self.pe*self.vmat[i,j]) # go SOUTH\n",
    "                        x4 = (self.p*self.vmat[i,j]+self.pe*self.vmat[i,j]+\n",
    "                              self.pe*self.vmat[i,j]) # go WEST\n",
    "                    # case 14: EAST, SOUTH, WEST obstacles\n",
    "                    elif (i==5 or self.mask[i+1,j]==0) \\\n",
    "                    and (j==0 or self.mask[i,j-1]==0) \\\n",
    "                    and (j==5 or self.mask[i,j+1]==0) \\\n",
    "                    and not (i==0 or self.mask[i-1,j]==0): \n",
    "                        x1 = (self.p*self.vmat[i-1,j] + self.pe*self.vmat[i,j] + \n",
    "                              self.pe*self.vmat[i,j]) # go NORTH\n",
    "                        x2 = (self.p*self.vmat[i,j]+self.pe*self.vmat[i-1,j] + \n",
    "                              self.pe*self.vmat[i,j]) # go EAST\n",
    "                        x3 = (self.p*self.vmat[i,j]+self.pe*self.vmat[i,j] + \n",
    "                              self.pe*self.vmat[i,j]) # go SOUTH\n",
    "                        x4 = (self.p*self.vmat[i,j]+self.pe*self.vmat[i-1,j]+\n",
    "                              self.pe*self.vmat[i,j]) # go WEST\n",
    "                    # case 15: NORTH,EAST, SOUTH, WEST obstacles. Absurd case, but need to have it\n",
    "                    # to make things work properly\n",
    "                    elif (i==5 or self.mask[i+1,j]==0) \\\n",
    "                    and (j==0 or self.mask[i,j-1]==0) \\\n",
    "                    and (j==5 or self.mask[i,j+1]==0) \\\n",
    "                    and (i==0 or self.mask[i-1,j]==0): \n",
    "                        x1 = x2 = x3 = x4 = self.vmat[i,j] # every direccion bounces back\n",
    "                    else: # no obstacle\n",
    "                        x1 = (self.p*self.vmat[i-1,j] + self.pe*self.vmat[i,j-1] + \n",
    "                              self.pe*self.vmat[i,j+1]) # go NORTH\n",
    "                        x2 = (self.p*self.vmat[i,j+1]+self.pe*self.vmat[i-1,j] + \n",
    "                              self.pe*self.vmat[i+1,j]) # go EAST\n",
    "                        x3 = (self.p*self.vmat[i+1,j]+self.pe*self.vmat[i,j+1] + \n",
    "                              self.pe*self.vmat[i,j-1]) # go SOUTH\n",
    "                        x4 = (self.p*self.vmat[i,j-1]+self.pe*self.vmat[i-1,j]+\n",
    "                              self.pe*self.vmat[i+1,j]) # go WEST\n",
    "                    self.vmat[i,j]=self.rmat[i,j]+self.gamma*max(x1,x2,x3,x4)\n",
    "                \n",
    "                if self.terminal[i,j]:  # terminal states require special handling\n",
    "                    # print(\"i = {}, j = {} is a terminal state\".format(i,j))\n",
    "                    self.vmat[i,j] = self.rmat[i,j] # value of terminal state just equal to reward\n",
    "                    # print(\"vmat[i,j] set to {}\".format(self.vmat[i,j]))\n",
    "        #print(\"Iteration \"  + str(iter))\n",
    "        self.iter+=1\n",
    "        return self.vmat\n",
    "                        \n",
    "                        \n"
   ]
  },
  {
   "cell_type": "code",
   "execution_count": 3,
   "id": "80e30ed7",
   "metadata": {},
   "outputs": [],
   "source": [
    "def solvenplotvi(rmat,mask,terminal, p=0.8,gamma=0.9,eps=0.001):\n",
    "    gw = GridWorld6x6(rmat=rmat,mask=mask,terminal=terminal,p=p,gamma=gamma)\n",
    "    vmat = gw.solve()\n",
    "    pimat = gw.evalpi()\n",
    "    offset = 0.1\n",
    "    fig, ax = plt.subplots(figsize=(5,5))\n",
    "    ax.set_aspect('equal')\n",
    "    ax.set_xlim(-3.0,3.0)\n",
    "    ax.set_ylim(-3.0,3.0)   \n",
    "    ax.set_xlabel(\"X\")\n",
    "    ax.set_ylabel(\"Y\")\n",
    "    ax.grid(True)\n",
    "    grid_center_x = np.array([-2.5,-1.5,-0.5,0.5,1.5,2.5])\n",
    "    grid_center_y = np.array([2.5,1.5,0.5,-0.5,-1.5,-2.5])\n",
    "    grid_center_xo = grid_center_x - offset\n",
    "    grid_center_yo = grid_center_y - offset\n",
    "    grid_width = 1.0\n",
    "    grid_height = 1.0\n",
    "    # show obstacle\n",
    "    for i in range(6):\n",
    "        for j in range(6):\n",
    "            llx = grid_center_x[j]-0.5*grid_width\n",
    "            lly = grid_center_y[i]-0.5*grid_height\n",
    "            if not mask[i,j]:\n",
    "                #print(\"Plot obstacle at {},{}\".format(llx,lly))\n",
    "                ax.add_patch(Rectangle((llx,lly),grid_width,grid_height,color='gray'))\n",
    "            if terminal[i,j]:\n",
    "                if rmat[i,j] > 0:\n",
    "                    ax.add_patch(Rectangle((llx,lly),grid_width,grid_height,color='green'))\n",
    "                    plt.text(grid_center_xo[j],grid_center_yo[i],str(rmat[i,j]), fontsize = 12)\n",
    "                if rmat[i,j] > 50: # precious reward\n",
    "                    ax.add_patch(Rectangle((llx,lly),grid_width,grid_height,color='gold'))\n",
    "                    plt.text(grid_center_xo[j],grid_center_yo[i],str(rmat[i,j]), fontsize = 12)\n",
    "                if rmat[i,j] < 0: # bad reward\n",
    "                    ax.add_patch(Rectangle((llx,lly),grid_width,grid_height,color='red'))\n",
    "                    plt.text(grid_center_xo[j],grid_center_yo[i],str(rmat[i,j]), fontsize = 12)\n",
    "            if pimat[i,j] == 0: # NORTH\n",
    "                plt.text(grid_center_xo[j],grid_center_yo[i],'^', fontsize = 16)\n",
    "            elif pimat[i,j] == 1: # EAST\n",
    "                plt.text(grid_center_xo[j],grid_center_yo[i],'>', fontsize = 12)\n",
    "            elif pimat[i,j] == 2: # SOUTH\n",
    "                plt.text(grid_center_xo[j],grid_center_yo[i],'v', fontsize = 12)\n",
    "            elif pimat[i,j] == 3: # WEST\n",
    "                plt.text(grid_center_xo[j],grid_center_yo[i],'<', fontsize = 12)\n",
    "                \n",
    "    return pimat,vmat"
   ]
  },
  {
   "cell_type": "code",
   "execution_count": 12,
   "id": "3e595697",
   "metadata": {},
   "outputs": [
    {
     "name": "stdout",
     "output_type": "stream",
     "text": [
      "Value iteration finishes at 20 iterations\n"
     ]
    },
    {
     "data": {
      "image/png": "[encoded data removed]",
      "text/plain": [
       "<Figure size 500x500 with 1 Axes>"
      ]
     },
     "metadata": {},
     "output_type": "display_data"
    }
   ],
   "source": [
    "rmat = np.array([[0,0,0,0,0,10],[0,0,0,0,0,-10],[0,0,0,0,0,0],\\\n",
    "                 [0,0,0,0,0,0],[0,0,0,0,0,0],[0,0,0,0,0,0]])\n",
    "mask = np.array([[1,1,1,0,1,1],[1,1,1,0,1,1],[1,1,1,0,1,1],\\\n",
    "                 [1,1,1,1,1,1],[1,0,1,1,0,1],[1,0,1,1,1,1]])\n",
    "terminal = np.array([[0,0,0,0,0,1],[0,0,0,0,0,-1],[0,0,0,0,0,0],\\\n",
    "                 [0,0,0,0,0,0],[0,0,0,0,0,0],[0,0,0,0,0,0]])\n",
    "pimat,vmat=solvenplotvi(rmat=rmat,mask=mask,terminal=terminal)"
   ]
  },
  {
   "cell_type": "code",
   "execution_count": 7,
   "id": "5c303c55",
   "metadata": {},
   "outputs": [
    {
     "name": "stdout",
     "output_type": "stream",
     "text": [
      "Value iteration finishes at 22 iterations\n"
     ]
    },
    {
     "data": {
      "image/png": "[encoded data removed]",
      "text/plain": [
       "<Figure size 500x500 with 1 Axes>"
      ]
     },
     "metadata": {},
     "output_type": "display_data"
    }
   ],
   "source": [
    "rmat = np.array([[0,0,0,0,0,10],[0,0,0,0,0,-10],[0,0,0,0,0,0],\\\n",
    "                 [0,0,0,0,0,0],[0,0,0,0,0,0],[0,0,0,0,0,0]])\n",
    "mask = np.array([[1,1,1,0,1,1],[1,0,1,0,1,1],[1,0,0,0,1,1],\\\n",
    "                 [1,1,1,1,1,1],[1,0,0,1,0,0],[1,0,1,1,1,1]])\n",
    "terminal = np.array([[0,0,0,0,0,1],[0,0,0,0,0,-1],[0,0,0,0,0,0],\\\n",
    "                 [0,0,0,0,0,0],[0,0,0,0,0,0],[0,0,0,0,0,0]])\n",
    "pimat,vmat=solvenplotvi(rmat=rmat,mask=mask,terminal=terminal)"
   ]
  },
  {
   "cell_type": "code",
   "execution_count": null,
   "id": "12ede77d-f84e-435d-9ea7-46ce809bb393",
   "metadata": {},
   "outputs": [],
   "source": [
    "### Pieter Abbeel Ex1"
   ]
  },
  {
   "cell_type": "code",
   "execution_count": 8,
   "id": "913b0b46-f1d3-4115-a01a-5cfc397cf077",
   "metadata": {},
   "outputs": [
    {
     "name": "stdout",
     "output_type": "stream",
     "text": [
      "Value iteration finishes at 16 iterations\n"
     ]
    },
    {
     "data": {
      "image/png": "[encoded data removed]",
      "text/plain": [
       "<Figure size 500x500 with 1 Axes>"
      ]
     },
     "metadata": {},
     "output_type": "display_data"
    }
   ],
   "source": [
    "# gamma = 0.99, pa = 0.8 \n",
    "rmat = np.array([[0,0,0,0,0,0],[0,0,0,0,0,0],[0,0,0,0,0,0],\\\n",
    "                 [0,0,0,10,0,60],[0,0,0,0,0,0],[-10,-10,-10,-10,-10,-10]])\n",
    "mask = np.array([[1,1,1,1,1,1],[1,1,1,1,1,1],[1,0,1,1,1,1],\\\n",
    "                 [1,0,0,1,0,1],[1,1,1,1,1,1],[1,1,1,1,1,1]])\n",
    "terminal = np.array([[0,0,0,0,0,0],[0,0,0,0,0,0],[0,0,0,0,0,0],\\\n",
    "                 [0,0,0,1,0,1],[0,0,0,0,0,0],[1,1,1,1,1,1]])\n",
    "pimat,vmat=solvenplotvi(rmat=rmat,mask=mask,terminal=terminal,gamma=0.9,p=0.9)"
   ]
  },
  {
   "cell_type": "code",
   "execution_count": 29,
   "id": "d7232992-bd54-42cf-b6a2-4ca46846455b",
   "metadata": {},
   "outputs": [
    {
     "data": {
      "text/plain": [
       "array([[ 21.51,  24.35,  27.48,  30.96,  34.81,  39.04],\n",
       "       [ 22.68,  26.32,  30.22,  34.56,  39.58,  45.  ],\n",
       "       [ 19.91,   0.  ,  31.79,  36.41,  45.  ,  51.92],\n",
       "       [ 17.48,   0.  ,   0.  ,  10.  ,   0.  ,  60.  ],\n",
       "       [ 15.43,  16.11,  21.61,  28.57,  39.68,  51.4 ],\n",
       "       [-10.  , -10.  , -10.  , -10.  , -10.  , -10.  ]])"
      ]
     },
     "execution_count": 29,
     "metadata": {},
     "output_type": "execute_result"
    }
   ],
   "source": [
    "np.round(vmat,2)"
   ]
  },
  {
   "cell_type": "code",
   "execution_count": 9,
   "id": "b013335d-3e92-451c-80be-75422b4e5031",
   "metadata": {},
   "outputs": [
    {
     "name": "stdout",
     "output_type": "stream",
     "text": [
      "Value iteration finishes at 9 iterations\n"
     ]
    },
    {
     "data": {
      "image/png": "[encoded data removed]",
      "text/plain": [
       "<Figure size 500x500 with 1 Axes>"
      ]
     },
     "metadata": {},
     "output_type": "display_data"
    }
   ],
   "source": [
    "# gamma = 0.3, pa = 0.8\n",
    "rmat = np.array([[0,0,0,0,0,0],[0,0,0,0,0,0],[0,0,0,0,0,0],\\\n",
    "                 [0,0,0,10,0,60],[0,0,0,0,0,0],[-10,-10,-10,-10,-10,-10]])\n",
    "mask = np.array([[1,1,1,1,1,1],[1,1,1,1,1,1],[1,0,1,1,1,1],\\\n",
    "                 [1,0,0,1,0,1],[1,1,1,1,1,1],[1,1,1,1,1,1]])\n",
    "terminal = np.array([[0,0,0,0,0,0],[0,0,0,0,0,0],[0,0,0,0,0,0],\\\n",
    "                 [0,0,0,1,0,1],[0,0,0,0,0,0],[1,1,1,1,1,1]])\n",
    "pimat,vmat=solvenplotvi(rmat=rmat,mask=mask,terminal=terminal, gamma=0.3, p=0.8)"
   ]
  },
  {
   "cell_type": "code",
   "execution_count": 10,
   "id": "38b4c4dd-ad37-4edc-a9e4-33b82bc585a8",
   "metadata": {},
   "outputs": [
    {
     "name": "stdout",
     "output_type": "stream",
     "text": [
      "Value iteration finishes at 38 iterations\n"
     ]
    },
    {
     "data": {
      "image/png": "[encoded data removed]",
      "text/plain": [
       "<Figure size 500x500 with 1 Axes>"
      ]
     },
     "metadata": {},
     "output_type": "display_data"
    }
   ],
   "source": [
    "# gamma = 0.3, pa = 0.5\n",
    "rmat = np.array([[0,0,0,0,0,0],[0,0,0,0,0,0],[0,0,0,0,0,0],\\\n",
    "                 [0,0,0,10,0,60],[0,0,0,0,0,0],[-10,-10,-10,-10,-10,-10]])\n",
    "mask = np.array([[1,1,1,1,1,1],[1,1,1,1,1,1],[1,0,1,1,1,1],\\\n",
    "                 [1,0,0,1,0,1],[1,1,1,1,1,1],[1,1,1,1,1,1]])\n",
    "terminal = np.array([[0,0,0,0,0,0],[0,0,0,0,0,0],[0,0,0,0,0,0],\\\n",
    "                 [0,0,0,1,0,1],[0,0,0,0,0,0],[1,1,1,1,1,1]])\n",
    "pimat,vmat=solvenplotvi(rmat=rmat,mask=mask,terminal=terminal, gamma=0.9,p=0.5)"
   ]
  },
  {
   "cell_type": "code",
   "execution_count": null,
   "id": "2466a927-6148-4778-bf64-fef4c4b8c1e7",
   "metadata": {},
   "outputs": [],
   "source": []
  },
  {
   "cell_type": "code",
   "execution_count": null,
   "id": "59a4c8d1-0398-402f-ad57-e93dcdccd645",
   "metadata": {},
   "outputs": [],
   "source": []
  },
  {
   "cell_type": "code",
   "execution_count": null,
   "id": "3eb39610-ca57-46fc-8ff7-0195264f094b",
   "metadata": {},
   "outputs": [],
   "source": []
  },
  {
   "cell_type": "code",
   "execution_count": null,
   "id": "5943599b-d966-4845-9f20-e431370c930d",
   "metadata": {},
   "outputs": [],
   "source": []
  },
  {
   "cell_type": "code",
   "execution_count": null,
   "id": "d5ed5b8c-006b-4457-ab97-be63688891ff",
   "metadata": {},
   "outputs": [],
   "source": []
  },
  {
   "cell_type": "code",
   "execution_count": null,
   "id": "2f38bd69-57c2-424d-9351-6004d5552014",
   "metadata": {},
   "outputs": [],
   "source": []
  },
  {
   "cell_type": "code",
   "execution_count": null,
   "id": "1f1c8b12-52e9-4dee-9cf7-69d3e1570d27",
   "metadata": {},
   "outputs": [],
   "source": []
  },
  {
   "cell_type": "code",
   "execution_count": null,
   "id": "b3a9af68-1e15-4cf3-a89d-30934b918541",
   "metadata": {},
   "outputs": [],
   "source": []
  },
  {
   "cell_type": "code",
   "execution_count": null,
   "id": "b6bfff4c",
   "metadata": {},
   "outputs": [],
   "source": []
  },
  {
   "cell_type": "code",
   "execution_count": null,
   "id": "ff88b67a",
   "metadata": {},
   "outputs": [],
   "source": []
  },
  {
   "cell_type": "code",
   "execution_count": null,
   "id": "f889ede5",
   "metadata": {},
   "outputs": [],
   "source": []
  },
  {
   "cell_type": "code",
   "execution_count": null,
   "id": "be281f1b",
   "metadata": {},
   "outputs": [],
   "source": []
  }
 ],
 "metadata": {
  "kernelspec": {
   "display_name": "Python [conda env:tf] *",
   "language": "python",
   "name": "conda-env-tf-py"
  },
  "language_info": {
   "codemirror_mode": {
    "name": "ipython",
    "version": 3
   },
   "file_extension": ".py",
   "mimetype": "text/x-python",
   "name": "python",
   "nbconvert_exporter": "python",
   "pygments_lexer": "ipython3",
   "version": "3.11.5"
  }
 },
 "nbformat": 4,
 "nbformat_minor": 5
}

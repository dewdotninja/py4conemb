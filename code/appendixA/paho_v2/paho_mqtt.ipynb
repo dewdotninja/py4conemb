{
 "cells": [
  {
   "cell_type": "code",
   "execution_count": null,
   "id": "0ad37c66",
   "metadata": {},
   "outputs": [],
   "source": [
    "## Test paho-mqtt \n",
    "## pip install paho-mqtt\n",
    "# http://www.steves-internet-guide.com/into-mqtt-python-client/"
   ]
  },
  {
   "cell_type": "code",
   "execution_count": 1,
   "id": "2afc578d",
   "metadata": {},
   "outputs": [],
   "source": [
    "import paho.mqtt.client as mqtt\n",
    "# import ssl"
   ]
  },
  {
   "cell_type": "code",
   "execution_count": 2,
   "id": "45e29037",
   "metadata": {},
   "outputs": [],
   "source": [
    "Client_ID = \"\"\n",
    "User = \"\"\n",
    "Password = \"\"\n",
    "client = mqtt.Client(mqtt.CallbackAPIVersion.VERSION2,\n",
    "                         client_id=Client_ID,\n",
    "                         transport='tcp',\n",
    "                         protocol=mqtt.MQTTv311,\n",
    "                         clean_session=True)\n",
    "client.username_pw_set(User,Password)"
   ]
  },
  {
   "cell_type": "code",
   "execution_count": 3,
   "id": "95eb0aa6",
   "metadata": {},
   "outputs": [
    {
     "data": {
      "text/plain": [
       "0"
      ]
     },
     "execution_count": 3,
     "metadata": {},
     "output_type": "execute_result"
    }
   ],
   "source": [
    "broker = \"broker.netpie.io\"\n",
    "myport = 1883\n",
    "client.connect(broker, port=myport, keepalive=60)"
   ]
  },
  {
   "cell_type": "code",
   "execution_count": 30,
   "id": "ec4672d2",
   "metadata": {},
   "outputs": [
    {
     "data": {
      "text/plain": [
       "(0, 5)"
      ]
     },
     "execution_count": 30,
     "metadata": {},
     "output_type": "execute_result"
    }
   ],
   "source": [
    "client.subscribe(\"@msg/update\")"
   ]
  },
  {
   "cell_type": "code",
   "execution_count": 35,
   "id": "30c231a1",
   "metadata": {},
   "outputs": [
    {
     "data": {
      "text/plain": [
       "(0, 7)"
      ]
     },
     "execution_count": 35,
     "metadata": {},
     "output_type": "execute_result"
    }
   ],
   "source": [
    "client.unsubscribe(\"@msg/update\")"
   ]
  },
  {
   "cell_type": "code",
   "execution_count": 32,
   "id": "285f4692",
   "metadata": {},
   "outputs": [],
   "source": [
    "def on_message(client, userdata, message):\n",
    "    global rcvd_msg\n",
    "    rcvd_msg = str(message.payload.decode(\"utf-8\"))\n",
    "    print(\"message received \", rcvd_msg)\n",
    "    print(\"message topic=\",message.topic)"
   ]
  },
  {
   "cell_type": "code",
   "execution_count": 33,
   "id": "ff84e404",
   "metadata": {},
   "outputs": [
    {
     "data": {
      "text/plain": [
       "'0.05,0,590,0,1,1,0,0,6.7,2.891455,2.609558,0.0,1.0,1.0,50.0'"
      ]
     },
     "execution_count": 33,
     "metadata": {},
     "output_type": "execute_result"
    }
   ],
   "source": [
    "rcvd_msg"
   ]
  },
  {
   "cell_type": "code",
   "execution_count": 27,
   "id": "17bbdf45",
   "metadata": {},
   "outputs": [],
   "source": [
    "client.on_message=on_message"
   ]
  },
  {
   "cell_type": "code",
   "execution_count": 88,
   "id": "93051b86",
   "metadata": {
    "scrolled": true
   },
   "outputs": [],
   "source": [
    "client.loop_start()"
   ]
  },
  {
   "cell_type": "code",
   "execution_count": 107,
   "id": "81903626",
   "metadata": {},
   "outputs": [],
   "source": [
    "client.loop_stop()"
   ]
  },
  {
   "cell_type": "code",
   "execution_count": 96,
   "id": "fbfe895f",
   "metadata": {},
   "outputs": [
    {
     "data": {
      "text/plain": [
       "<paho.mqtt.client.MQTTMessageInfo at 0x1058f2360>"
      ]
     },
     "execution_count": 96,
     "metadata": {},
     "output_type": "execute_result"
    }
   ],
   "source": [
    "kp = 6.7\n",
    "cmd_str = \"kp=\"+str(kp)\n",
    "client.publish(\"@msg/cmd\",cmd_str)"
   ]
  },
  {
   "cell_type": "code",
   "execution_count": 15,
   "id": "5db80a8a",
   "metadata": {},
   "outputs": [
    {
     "data": {
      "text/plain": [
       "<paho.mqtt.client.MQTTMessageInfo at 0x104438c20>"
      ]
     },
     "execution_count": 15,
     "metadata": {},
     "output_type": "execute_result"
    }
   ],
   "source": [
    "client.publish(\"@msg/cmd\",\"autotune\")"
   ]
  },
  {
   "cell_type": "code",
   "execution_count": 11,
   "id": "650f5453",
   "metadata": {},
   "outputs": [
    {
     "data": {
      "text/plain": [
       "<paho.mqtt.client.MQTTMessageInfo at 0x10440d310>"
      ]
     },
     "execution_count": 11,
     "metadata": {},
     "output_type": "execute_result"
    }
   ],
   "source": [
    "led = \"on\"\n",
    "period = 0.05\n",
    "publish_str = \"{\\\"data\\\": {\\\"led\\\":\\\"\" + led + \"\\\",\\\"period\\\":\"+str(period)+\"}}\"\n",
    "client.publish(\"@shadow/data/update\",publish_str)"
   ]
  },
  {
   "cell_type": "code",
   "execution_count": null,
   "id": "412dae28",
   "metadata": {},
   "outputs": [],
   "source": [
    "client.publish(\"@msg/update\",\"0.1,1,400,1,1,2,0,0,10,9,8,1,0.5,0.6,200\")"
   ]
  },
  {
   "cell_type": "code",
   "execution_count": 85,
   "id": "21fde891",
   "metadata": {},
   "outputs": [],
   "source": [
    "# use Queue\n",
    "import queue\n",
    "q = queue.Queue()"
   ]
  },
  {
   "cell_type": "code",
   "execution_count": 87,
   "id": "6ab646c4",
   "metadata": {},
   "outputs": [],
   "source": [
    "def on_message(client, userdata, message):\n",
    "    q.put(message)\n",
    "    \n",
    "client.on_message=on_message"
   ]
  },
  {
   "cell_type": "code",
   "execution_count": 97,
   "id": "4e1595f1",
   "metadata": {
    "scrolled": true
   },
   "outputs": [
    {
     "data": {
      "text/plain": [
       "(0, 21)"
      ]
     },
     "execution_count": 97,
     "metadata": {},
     "output_type": "execute_result"
    }
   ],
   "source": [
    "client.subscribe(\"@msg/shadowdata\")"
   ]
  },
  {
   "cell_type": "code",
   "execution_count": 78,
   "id": "286e0fdc",
   "metadata": {},
   "outputs": [
    {
     "data": {
      "text/plain": [
       "(4, None)"
      ]
     },
     "execution_count": 78,
     "metadata": {},
     "output_type": "execute_result"
    }
   ],
   "source": [
    "client.unsubscribe(\"@msg/shadowdata\")"
   ]
  },
  {
   "cell_type": "code",
   "execution_count": 106,
   "id": "64346e13",
   "metadata": {},
   "outputs": [
    {
     "name": "stdout",
     "output_type": "stream",
     "text": [
      "received from queue 0.5,0.499,0.4280252\n",
      "received from queue 0.5,0.497,0.4285734\n",
      "received from queue 0.5,0.497,0.4294352\n",
      "received from queue 0.5,0.499,0.4300524\n",
      "received from queue 0.5,0.506,0.4260781\n",
      "received from queue 0.5,0.497,0.4293275\n",
      "received from queue 0.5,0.497,0.4309157\n",
      "received from queue 0.5,0.502,0.4290597\n",
      "received from queue 0.5,0.503,0.4270105\n",
      "received from queue 0.5,0.5,0.4276412\n",
      "received from queue 0.5,0.497,0.4306631\n",
      "received from queue 0.5,0.502,0.4292691\n",
      "received from queue 0.5,0.505,0.4267421\n",
      "received from queue 0.5,0.499,0.4282477\n",
      "received from queue 0.5,0.497,0.4308167\n",
      "received from queue 0.5,0.501,0.4298467\n",
      "received from queue 0.5,0.501,0.4277381\n",
      "received from queue 0.5,0.498,0.4290796\n",
      "received from queue 0.5,0.499,0.4302866\n",
      "received from queue 0.5,0.502,0.4294055\n",
      "received from queue 0.5,0.501,0.4273449\n",
      "received from queue 0.5,0.497,0.4287781\n",
      "received from queue 0.5,0.499,0.4298724\n",
      "received from queue 0.5,0.5,0.4298799\n",
      "received from queue 0.5,0.505,0.4273697\n",
      "received from queue 0.5,0.499,0.428474\n",
      "received from queue 0.5,0.497,0.4303024\n",
      "received from queue 0.5,0.507,0.4278584\n",
      "received from queue 0.5,0.502,0.4279746\n",
      "received from queue 0.5,0.498,0.4284956\n",
      "received from queue 0.5,0.498,0.4300857\n",
      "received from queue 0.5,0.501,0.4297689\n",
      "received from queue 0.5,0.508,0.4253259\n",
      "received from queue 0.5,0.497,0.4290376\n",
      "received from queue 0.5,0.497,0.430701\n",
      "received from queue 0.5,0.502,0.4292888\n",
      "received from queue 0.5,0.502,0.4274707\n",
      "received from queue 0.5,0.5,0.4281754\n",
      "received from queue 0.5,0.499,0.430087\n",
      "received from queue 0.5,0.502,0.4288703\n"
     ]
    }
   ],
   "source": [
    "while not q.empty():\n",
    "    message = q.get()\n",
    "    if message is None:\n",
    "        continue\n",
    "    print(\"received from queue\",str(message.payload.decode(\"utf-8\")))"
   ]
  },
  {
   "cell_type": "code",
   "execution_count": null,
   "id": "3be1d459",
   "metadata": {},
   "outputs": [],
   "source": []
  },
  {
   "cell_type": "code",
   "execution_count": null,
   "id": "32e6967e",
   "metadata": {},
   "outputs": [],
   "source": []
  },
  {
   "cell_type": "code",
   "execution_count": null,
   "id": "f880680a",
   "metadata": {},
   "outputs": [],
   "source": []
  }
 ],
 "metadata": {
  "kernelspec": {
   "display_name": "Python [conda env:py4conemb] *",
   "language": "python",
   "name": "conda-env-py4conemb-py"
  },
  "language_info": {
   "codemirror_mode": {
    "name": "ipython",
    "version": 3
   },
   "file_extension": ".py",
   "mimetype": "text/x-python",
   "name": "python",
   "nbconvert_exporter": "python",
   "pygments_lexer": "ipython3",
   "version": "3.11.8"
  }
 },
 "nbformat": 4,
 "nbformat_minor": 5
}
